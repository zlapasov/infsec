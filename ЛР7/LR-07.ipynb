{
 "cells": [
  {
   "cell_type": "code",
   "execution_count": 1,
   "id": "a46ad56f",
   "metadata": {},
   "outputs": [],
   "source": [
    "def main():\n",
    "    dict = {\"а\" :1, \"б\" :2 , \"в\" :3 ,\"г\" :4 ,\"д\" :5 ,\"е\" :6 ,\"ё\" :7 ,\"ж\": 8, \"з\": 9, \"и\": 10, \"й\": 11, \"к\": 12, \"л\": 13,\n",
    "            \"м\": 14, \"н\": 15, \"о\": 16, \"п\": 17,\n",
    "            \"р\": 18, \"с\": 19, \"т\": 20, \"у\": 21, \"ф\": 22, \"х\": 23, \"ц\": 24, \"ч\": 25, \"ш\": 26, \"щ\": 27, \"ъ\": 28,\n",
    "            \"ы\": 29, \"ь\": 30, \"э\": 31, \"ю\": 32, \"я\": 32\n",
    "            }\n",
    "    dict2 = {v: k for k, v in dict.items()}\n",
    "    gamma = input(\"Введите гамму: \")\n",
    "    text = input(\"Введите текст: \")\n",
    "    listofdigitsoftext = list()\n",
    "    listofdigitsofgamma = list()\n",
    "    for i in text:\n",
    "        listofdigitsoftext.append(dict[i])\n",
    "    print(\"Числа текста: \", listofdigitsoftext)\n",
    "    for i in gamma:\n",
    "        listofdigitsofgamma.append(dict[i])\n",
    "    print(\"Числа гаммы: \", listofdigitsofgamma)\n",
    "    listofdigitsresult = list()\n",
    "    ch = 0\n",
    "    for i in text:\n",
    "        try:\n",
    "            a = dict[i] + listofdigitsofgamma[ch]\n",
    "        except:\n",
    "            ch = 0\n",
    "            a = dict[i] + listofdigitsofgamma[ch]\n",
    "        if a>=33:\n",
    "            a = a%33\n",
    "        ch += 1\n",
    "        listofdigitsresult.append(a)\n",
    "    print(\"Числа шифротекста: \", listofdigitsresult)\n",
    "    text_enc = \"\"\n",
    "    for i in listofdigitsresult:\n",
    "        text_enc += dict2[i]\n",
    "    print(\"Зашифрованный текст: \", text_enc)\n",
    "    listofdigits = list()\n",
    "    for i in text_enc:\n",
    "        listofdigits.append(dict[i])\n",
    "    ch = 0\n",
    "    listofdigits1 = list()\n",
    "    for i in listofdigits:\n",
    "        a = i - listofdigitsofgamma[ch]\n",
    "        if a < 1:\n",
    "            a = 33 + a\n",
    "        listofdigits1.append(a)\n",
    "        ch += 1\n",
    "    textdecrypted = \"\"\n",
    "    for i in listofdigits1:\n",
    "        textdecrypted += dict2[i]\n",
    "    print(\"Расшифрованный текст: \", textdecrypted)"
   ]
  },
  {
   "cell_type": "code",
   "execution_count": 2,
   "id": "2cf9c915",
   "metadata": {},
   "outputs": [
    {
     "name": "stdout",
     "output_type": "stream",
     "text": [
      "Введите гамму: апруеас\n",
      "Введите текст: штирлиц\n",
      "Числа текста:  [26, 20, 10, 18, 13, 10, 24]\n",
      "Числа гаммы:  [1, 17, 18, 21, 6, 1, 19]\n",
      "Числа шифротекста:  [27, 4, 28, 6, 19, 11, 10]\n",
      "Зашифрованный текст:  щгъесйи\n",
      "Расшифрованный текст:  штирлиц\n"
     ]
    }
   ],
   "source": [
    "main()"
   ]
  },
  {
   "cell_type": "code",
   "execution_count": null,
   "id": "e8b46dfa",
   "metadata": {},
   "outputs": [],
   "source": []
  }
 ],
 "metadata": {
  "kernelspec": {
   "display_name": "Python 3 (ipykernel)",
   "language": "python",
   "name": "python3"
  },
  "language_info": {
   "codemirror_mode": {
    "name": "ipython",
    "version": 3
   },
   "file_extension": ".py",
   "mimetype": "text/x-python",
   "name": "python",
   "nbconvert_exporter": "python",
   "pygments_lexer": "ipython3",
   "version": "3.9.9"
  }
 },
 "nbformat": 4,
 "nbformat_minor": 5
}
