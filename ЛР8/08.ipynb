{
 "cells": [
  {
   "cell_type": "code",
   "execution_count": 3,
   "id": "1ea47703",
   "metadata": {},
   "outputs": [],
   "source": [
    "a = ord(\"а\")\n",
    "liters = [chr(i) for i in range(a, a+32)]\n",
    "a = ord(\"0\")\n",
    "for i in range(a, a+10):\n",
    "    liters.append(chr(i))\n",
    "\n",
    "a = ord(\"А\")\n",
    "for i in range(1040, 1072):\n",
    "    liters.append(chr(i))\n",
    "    \n",
    "def vzlom(P1, P2):\n",
    "    code = []\n",
    "    for i in range(len(P1)):\n",
    "        code.append(liters[(liters.index(P1[i]) + liters.index(P2[i])) % len(liters)])\n",
    "    print(code)\n",
    "    pr = \"\".join(code)\n",
    "    print(pr)"
   ]
  },
  {
   "cell_type": "code",
   "execution_count": 8,
   "id": "256ee6b2",
   "metadata": {},
   "outputs": [],
   "source": [
    "P1=\"СекретноеСлово\""
   ]
  },
  {
   "cell_type": "code",
   "execution_count": 9,
   "id": "12947649",
   "metadata": {},
   "outputs": [],
   "source": [
    "P2=\"ОтветНаВопрос1\""
   ]
  },
  {
   "cell_type": "code",
   "execution_count": 10,
   "id": "e2d95255",
   "metadata": {},
   "outputs": [
    {
     "data": {
      "text/plain": [
       "14"
      ]
     },
     "execution_count": 10,
     "metadata": {},
     "output_type": "execute_result"
    }
   ],
   "source": [
    "len(P1)"
   ]
  },
  {
   "cell_type": "code",
   "execution_count": 11,
   "id": "25b9e619",
   "metadata": {},
   "outputs": [
    {
     "data": {
      "text/plain": [
       "14"
      ]
     },
     "execution_count": 11,
     "metadata": {},
     "output_type": "execute_result"
    }
   ],
   "source": [
    "len(P2)"
   ]
  },
  {
   "cell_type": "code",
   "execution_count": 12,
   "id": "8845bbfe",
   "metadata": {},
   "outputs": [
    {
     "name": "stdout",
     "output_type": "stream",
     "text": [
      "['9', 'ч', 'м', 'х', 'ч', 'Я', 'н', 'Р', 'у', 'а', 'ы', 'ь', 'у', 'Е']\n",
      "9чмхчЯнРуаыьуЕ\n"
     ]
    }
   ],
   "source": [
    "vzlom(P1, P2)"
   ]
  },
  {
   "cell_type": "code",
   "execution_count": 13,
   "id": "dfa96258",
   "metadata": {},
   "outputs": [],
   "source": [
    "def gamma_shifr(P1, gamma):\n",
    "    dicts = {\"а\": 1, \"б\": 2, \"в\": 3, \"г\": 4, \"д\": 5, \"е\": 6, \"ё\": 7, \"ж\": 8, \"з\": 9, \"и\": 10, \"й\": 11, \"к\": 12, \"л\": 13,\n",
    "             \"м\": 14, \"н\": 15, \"о\": 16, \"п\": 17, \"р\": 18, \"с\": 19, \"т\": 20, \"у\": 21, \"ф\": 22, \"х\": 23, \"ц\": 24, \"ч\": 25, \n",
    "             \"ш\": 26, \"щ\": 27, \"ъ\": 28, \"ы\": 29, \"ь\": 30, \"э\": 31, \"ю\": 32, \"я\": 32, \"А\":33 , \"Б\": 34, \"В\": 35 , \"Г\":36, \n",
    "             \"Д\":37 , \"Е\":38 , \"Ё\":39 , \"Ж\":40 , \"З\":41, \"И\":42,\"Й\":43 , \"К\":44 , \"Л\":45 , \"М\":46 , \"Н\":47 , \"О\":48 , \n",
    "             \"П\":49 , \"Р\":50 , \"С\":51 , \"Т\":52 , \"У\":53 , \"Ф\":54 , \"Х\":55 , \"Ц\":56 , \"Ч\":57 , \"Ш\":58,\"Щ\":59 , \"Ъ\":60 , \n",
    "             \"Ы\":61 , \"Ь\":62 , \"Э\":63 , \"Ю\":64 , \"Я\":65 , \"1\":66 , \"2\":67 , \"3\":68 , \"4\":69 , \"5\":70 , \"6\":71 , \"7\": 72, \n",
    "             \"8\":73 , \"9\":74 , \"0\":75\n",
    "    }\n",
    "    \n",
    "    dicts2 = {v: k for k,v in dicts.items()}\n",
    "    text = P1\n",
    "    digits_text = []\n",
    "    digits_gamma = []\n",
    "    \n",
    "    for i in text:\n",
    "        digits_text.append(dicts[i])\n",
    "    print(\"Числа текста \", digits_text)\n",
    "    \n",
    "    for i in gamma:\n",
    "        digits_gamma.append(dicts[i])\n",
    "    print(\"Числа гаммы \", digits_gamma)\n",
    "    \n",
    "    digits_result = []\n",
    "    ch = 0\n",
    "    for i in text:\n",
    "        try:\n",
    "            a = dicts[i] + digits_gamma[ch]\n",
    "        except:\n",
    "            ch = 0\n",
    "            a = dicts[i] + digits_gamma[ch]\n",
    "        if a > 75:\n",
    "            a = a%75\n",
    "        ch += 1\n",
    "        digits_result.append(a)\n",
    "    print(\"Числа шифротекста \", digits_result)\n",
    "    \n",
    "    text_cr = \"\"\n",
    "    for i in digits_result:\n",
    "        text_cr += dicts2[i]\n",
    "    print(\"Шифротекст \", text_cr)\n",
    "    \n",
    "    digits = []\n",
    "    for i in text_cr:\n",
    "        digits.append(dicts[i])\n",
    "    ch = 0\n",
    "    digits1 = []\n",
    "    for i in digits:\n",
    "        try:\n",
    "            a = i - digits_gamma[ch]\n",
    "        except:\n",
    "            ch = 0\n",
    "            a = i - digits_gamma[ch]\n",
    "        if a < 1:\n",
    "            a = 75 + a\n",
    "        digits1.append(a)\n",
    "        ch += 1\n",
    "        \n",
    "    text_decr = \"\"\n",
    "    for i in digits1:\n",
    "        text_decr += dicts2[i]\n",
    "    print(\"Расшифрованный текст \", text_decr)"
   ]
  },
  {
   "cell_type": "code",
   "execution_count": 14,
   "id": "0e248263",
   "metadata": {},
   "outputs": [],
   "source": [
    "gamma = \"9чмхчЯнРуаыьуЕ\""
   ]
  },
  {
   "cell_type": "code",
   "execution_count": 15,
   "id": "187a6128",
   "metadata": {},
   "outputs": [
    {
     "name": "stdout",
     "output_type": "stream",
     "text": [
      "Числа текста  [51, 6, 12, 18, 6, 20, 15, 16, 6, 51, 13, 16, 3, 16]\n",
      "Числа гаммы  [74, 25, 14, 23, 25, 65, 15, 50, 21, 1, 29, 30, 21, 38]\n",
      "Числа шифротекста  [50, 31, 26, 41, 31, 10, 30, 66, 27, 52, 42, 46, 24, 54]\n",
      "Шифротекст  РэшЗэиь1щТИМцФ\n",
      "Расшифрованный текст  СекретноеСлово\n"
     ]
    }
   ],
   "source": [
    "gamma_shifr(P1, gamma)"
   ]
  },
  {
   "cell_type": "code",
   "execution_count": null,
   "id": "994d3457",
   "metadata": {},
   "outputs": [],
   "source": []
  }
 ],
 "metadata": {
  "kernelspec": {
   "display_name": "Python 3 (ipykernel)",
   "language": "python",
   "name": "python3"
  },
  "language_info": {
   "codemirror_mode": {
    "name": "ipython",
    "version": 3
   },
   "file_extension": ".py",
   "mimetype": "text/x-python",
   "name": "python",
   "nbconvert_exporter": "python",
   "pygments_lexer": "ipython3",
   "version": "3.9.9"
  }
 },
 "nbformat": 4,
 "nbformat_minor": 5
}
